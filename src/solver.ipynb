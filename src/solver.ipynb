{
 "cells": [
  {
   "cell_type": "code",
   "execution_count": 1,
   "metadata": {},
   "outputs": [],
   "source": [
    "import numpy as np\n",
    "import matplotlib.pyplot as plt"
   ]
  },
  {
   "cell_type": "code",
   "execution_count": 8,
   "metadata": {},
   "outputs": [],
   "source": [
    "from model import Model\n",
    "from words import words, possible_results, answers\n",
    "\n",
    "def to_boxes(game_res):\n",
    "    res = \"\"\n",
    "    for c in game_res:\n",
    "        if c == 'Y':\n",
    "            res += '\\U0001f7e9'\n",
    "        elif c == 'M':\n",
    "            res += '\\U0001f7e8'\n",
    "        else:\n",
    "            res += '\\u2B1B'\n",
    "    return res\n",
    "\n",
    "model = Model()"
   ]
  },
  {
   "cell_type": "markdown",
   "metadata": {},
   "source": [
    "## Probability Mass Function\n",
    "\n",
    "The probability mass function (PMF) of a word $w$ is defined to return the probability of receiving a particular result for guessing $w$."
   ]
  },
  {
   "cell_type": "code",
   "execution_count": 3,
   "metadata": {},
   "outputs": [
    {
     "data": {
      "image/png": "[encoded data removed]",
      "text/plain": [
       "<Figure size 432x288 with 1 Axes>"
      ]
     },
     "metadata": {
      "needs_background": "light"
     },
     "output_type": "display_data"
    }
   ],
   "source": [
    "# Looks at an example use of the PMF for a random word 'w'\n",
    "\n",
    "w = np.random.choice(words)\n",
    "plt.title(w)\n",
    "prob_dist = np.array(sorted(model.prob_dist(w), reverse=True))\n",
    "labels = [label for _, label in zip(prob_dist, possible_results)]\n",
    "plt.bar(labels[:50], prob_dist[:50])\n",
    "plt.xticks(fontsize=5, rotation='vertical')\n",
    "plt.show()"
   ]
  },
  {
   "cell_type": "markdown",
   "metadata": {},
   "source": [
    "## Entropy"
   ]
  },
  {
   "cell_type": "code",
   "execution_count": 4,
   "metadata": {},
   "outputs": [
    {
     "name": "stdout",
     "output_type": "stream",
     "text": [
      "Entropy for 'glops': 4.976612757533324\n"
     ]
    }
   ],
   "source": [
    "entropy = model.entropy(prob_dist)\n",
    "print(f\"Entropy for '{w}': {entropy}\")"
   ]
  }
 ],
 "metadata": {
  "interpreter": {
   "hash": "5fd99f65cce64b605440537471c30c027900ce8bbf7e7a548d31f84bd2322fcb"
  },
  "kernelspec": {
   "display_name": "Python 3.8.6 64-bit ('3.8.6')",
   "language": "python",
   "name": "python3"
  },
  "language_info": {
   "codemirror_mode": {
    "name": "ipython",
    "version": 3
   },
   "file_extension": ".py",
   "mimetype": "text/x-python",
   "name": "python",
   "nbconvert_exporter": "python",
   "pygments_lexer": "ipython3",
   "version": "3.8.6"
  },
  "orig_nbformat": 4
 },
 "nbformat": 4,
 "nbformat_minor": 2
}
