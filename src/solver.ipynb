{
 "cells": [
  {
   "cell_type": "markdown",
   "metadata": {},
   "source": [
    "_Heavily inspired by 3b1b_"
   ]
  },
  {
   "cell_type": "code",
   "execution_count": 1,
   "metadata": {},
   "outputs": [],
   "source": [
    "import numpy as np\n",
    "import matplotlib.pyplot as plt"
   ]
  },
  {
   "cell_type": "code",
   "execution_count": 2,
   "metadata": {},
   "outputs": [],
   "source": [
    "from model import Model\n",
    "from words import words, answers\n",
    "\n",
    "model = Model(words, answers)"
   ]
  },
  {
   "cell_type": "code",
   "execution_count": 3,
   "metadata": {},
   "outputs": [
    {
     "data": {
      "image/png": "[encoded data removed]",
      "text/plain": [
       "<Figure size 432x288 with 1 Axes>"
      ]
     },
     "metadata": {
      "needs_background": "light"
     },
     "output_type": "display_data"
    }
   ],
   "source": [
    "priors = model.get_naive_priors()\n",
    "weights = model.get_weights(words, priors)\n",
    "distributions = model.get_distributions(words, words, weights)\n",
    "\n",
    "r_word_idx = np.random.choice(np.arange(len(words)))\n",
    "plt.title(f\"PMF of '{words[r_word_idx]}'\")\n",
    "plt.bar(np.arange(3 ** 5), distributions[r_word_idx])\n",
    "plt.show()"
   ]
  },
  {
   "cell_type": "code",
   "execution_count": 4,
   "metadata": {},
   "outputs": [
    {
     "name": "stdout",
     "output_type": "stream",
     "text": [
      "Entropy of 'fends' = 4.416878975614166\n",
      "The word with the largest entropy is 'soare', with an entropy of 5.885960110378855\n"
     ]
    }
   ],
   "source": [
    "entropies = model.get_entropies(words, words, weights)\n",
    "print(f\"Entropy of '{words[r_word_idx]}' = {entropies[r_word_idx]}\")\n",
    "\n",
    "best_word_idx = np.argmax(entropies)\n",
    "best_word = words[best_word_idx]\n",
    "print(f\"The word with the largest entropy is '{best_word}', with an entropy of {entropies[best_word_idx]}\")"
   ]
  },
  {
   "cell_type": "code",
   "execution_count": 5,
   "metadata": {},
   "outputs": [
    {
     "name": "stdout",
     "output_type": "stream",
     "text": [
      "Remaining solutions after best case:\n",
      "['humph' 'digit' 'cluck' 'mimic' 'flick' 'lying' 'civic' 'guild' 'thumb'] ... 183/2315 words remaining\n"
     ]
    }
   ],
   "source": [
    "best_word_most_likely_result = np.argmax(distributions[best_word_idx])\n",
    "remaining_solutions = model.get_possible_answers(best_word, best_word_most_likely_result, np.asarray(answers))\n",
    "print('Remaining solutions after best case:')\n",
    "print(f'{remaining_solutions[:9]} ... {len(remaining_solutions)}/{len(answers)} words remaining')"
   ]
  },
  {
   "cell_type": "code",
   "execution_count": 10,
   "metadata": {},
   "outputs": [
    {
     "name": "stdout",
     "output_type": "stream",
     "text": [
      "Model failed 11 out of 2315 games\n",
      "The average score is 3.6168466522678187\n"
     ]
    }
   ],
   "source": [
    "from game import Game\n",
    "from IPython.display import clear_output\n",
    "\n",
    "model = Model(words, answers)\n",
    "\n",
    "score, failed = 0., 0\n",
    "num_games = len(answers)\n",
    "for answer in answers[:num_games]:\n",
    "    g = Game(answer)\n",
    "    results = model(g.get_solution())\n",
    "    print(f\"The word is '{g.get_solution()}'\")\n",
    "\n",
    "    solved = False\n",
    "    for i in range(min(len(results), 6)):\n",
    "        word = results[i]\n",
    "        result = g.guess(word)\n",
    "        print(f'Guess {i+1}: {g.result_as_boxes(result)} {word}')\n",
    "        cnt = np.sum([c == 'Y' for c in result])\n",
    "        if cnt == 5:\n",
    "            score += i + 1\n",
    "            solved = True\n",
    "            break\n",
    "    if not solved:\n",
    "        score += 7\n",
    "        failed += 1\n",
    "\n",
    "    clear_output(wait = True)\n",
    "\n",
    "avg_score = score / float(num_games)\n",
    "print(f'Model failed {failed} out of {num_games} games')\n",
    "print(f'The average score is {avg_score}')"
   ]
  },
  {
   "cell_type": "code",
   "execution_count": 9,
   "metadata": {},
   "outputs": [
    {
     "name": "stdout",
     "output_type": "stream",
     "text": [
      "Model failed 11 out of 2315 games\n",
      "The average score is 3.5861771058315335\n"
     ]
    }
   ],
   "source": [
    "model = Model(words, answers, naive = False)\n",
    "\n",
    "score, failed = 0., 0\n",
    "num_games = len(answers)\n",
    "for answer in answers[:num_games]:\n",
    "    g = Game(answer)\n",
    "    results = model(g.get_solution())\n",
    "    print(f\"The word is '{g.get_solution()}'\")\n",
    "\n",
    "    solved = False\n",
    "    for i in range(min(len(results), 6)):\n",
    "        word = results[i]\n",
    "        result = g.guess(word)\n",
    "        print(f'Guess {i+1}: {g.result_as_boxes(result)} {word}')\n",
    "        cnt = np.sum([c == 'Y' for c in result])\n",
    "        if cnt == 5:\n",
    "            score += i + 1\n",
    "            solved = True\n",
    "            break\n",
    "    if not solved:\n",
    "        score += 7\n",
    "        failed += 1\n",
    "\n",
    "    clear_output(wait = True)\n",
    "\n",
    "avg_score = score / float(num_games)\n",
    "print(f'Model failed {failed} out of {num_games} games')\n",
    "print(f'The average score is {avg_score}')"
   ]
  },
  {
   "cell_type": "code",
   "execution_count": 7,
   "metadata": {},
   "outputs": [
    {
     "name": "stdout",
     "output_type": "stream",
     "text": [
      "The word is 'fried'\n",
      "Guess 1: ⬛⬛⬛🟨🟨 soare\n",
      "Guess 2: 🟨🟨⬛🟩🟨 deter\n",
      "Guess 3: ⬛🟩🟩🟩🟩 pried\n",
      "Guess 4: 🟩🟩🟩🟩🟩 fried\n"
     ]
    }
   ],
   "source": [
    "g = Game(\"fried\")\n",
    "results = model(g.get_solution())\n",
    "print(f\"The word is '{g.get_solution()}'\")\n",
    "\n",
    "for i in range(min(len(results), 6)):\n",
    "    word = results[i]\n",
    "    result = g.guess(word)\n",
    "    print(f'Guess {i+1}: {g.result_as_boxes(result)} {word}')\n",
    "    cnt = np.sum([c == 'Y' for c in result])\n",
    "    if cnt == 5:\n",
    "        score += i + 1\n",
    "        solved = True\n",
    "        break"
   ]
  }
 ],
 "metadata": {
  "interpreter": {
   "hash": "5fd99f65cce64b605440537471c30c027900ce8bbf7e7a548d31f84bd2322fcb"
  },
  "kernelspec": {
   "display_name": "Python 3.8.6 64-bit ('3.8.6')",
   "language": "python",
   "name": "python3"
  },
  "language_info": {
   "codemirror_mode": {
    "name": "ipython",
    "version": 3
   },
   "file_extension": ".py",
   "mimetype": "text/x-python",
   "name": "python",
   "nbconvert_exporter": "python",
   "pygments_lexer": "ipython3",
   "version": "3.8.6"
  },
  "orig_nbformat": 4
 },
 "nbformat": 4,
 "nbformat_minor": 2
}
